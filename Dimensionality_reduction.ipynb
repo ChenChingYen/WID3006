{
 "cells": [
  {
   "cell_type": "code",
   "execution_count": 1,
   "id": "af58d45c",
   "metadata": {},
   "outputs": [],
   "source": [
    "# Import libraries\n",
    "import numpy as np\n",
    "import matplotlib.pyplot as plt\n",
    "from sklearn.preprocessing import StandardScaler"
   ]
  },
  {
   "cell_type": "code",
   "execution_count": 2,
   "id": "ed7d6bc8",
   "metadata": {},
   "outputs": [
    {
     "name": "stdout",
     "output_type": "stream",
     "text": [
      "Original Dataset\n",
      "[[0.5 0.7]\n",
      " [1.  1.1]\n",
      " [1.5 1.6]\n",
      " [1.1 0.9]\n",
      " [1.9 2.2]\n",
      " [2.2 2.9]\n",
      " [2.6 2.7]\n",
      " [2.  1.6]\n",
      " [2.5 2.4]\n",
      " [3.1 3. ]]\n"
     ]
    }
   ],
   "source": [
    "# Initialize the dataset\n",
    "data = np.array([[0.5, 0.7], [1.0, 1.1], [1.5, 1.6], [1.1, 0.9], [1.9, 2.2], [2.2, 2.9], [2.6, 2.7], [2.0, 1.6], [2.5, 2.4], [3.1, 3.0]])\n",
    "print(\"Original Dataset\")\n",
    "print(data)"
   ]
  },
  {
   "cell_type": "code",
   "execution_count": 3,
   "id": "32877946",
   "metadata": {},
   "outputs": [
    {
     "name": "stdout",
     "output_type": "stream",
     "text": [
      "Standardized dataset\n",
      "[[-1.740994   -1.506743  ]\n",
      " [-1.09136937 -1.00864614]\n",
      " [-0.44174475 -0.38602507]\n",
      " [-0.96144445 -1.25769457]\n",
      " [ 0.07795496  0.36112022]\n",
      " [ 0.46772973  1.23278973]\n",
      " [ 0.98742943  0.9837413 ]\n",
      " [ 0.20787988 -0.38602507]\n",
      " [ 0.85750451  0.61016865]\n",
      " [ 1.63705406  1.35731394]]\n"
     ]
    }
   ],
   "source": [
    "# Standardize the features\n",
    "sc = StandardScaler()\n",
    "std_data = sc.fit_transform(data)\n",
    "print(\"Standardized dataset\")\n",
    "print(std_data)"
   ]
  },
  {
   "cell_type": "code",
   "execution_count": 4,
   "id": "c52fe45e",
   "metadata": {},
   "outputs": [
    {
     "name": "stdout",
     "output_type": "stream",
     "text": [
      "Covariance Matrix\n",
      "[[1.11111111 1.03831938]\n",
      " [1.03831938 1.11111111]]\n"
     ]
    }
   ],
   "source": [
    "# Construct the covariance matrix\n",
    "cov_mat = np.cov(std_data.T)\n",
    "print(\"Covariance Matrix\")\n",
    "print(cov_mat)"
   ]
  },
  {
   "cell_type": "code",
   "execution_count": 5,
   "id": "5912e4ff",
   "metadata": {},
   "outputs": [
    {
     "name": "stdout",
     "output_type": "stream",
     "text": [
      "Eigenvalues\n",
      "[2.1494305  0.07279173]\n",
      "\n",
      "Eigenvector\n",
      "[[ 0.70710678 -0.70710678]\n",
      " [ 0.70710678  0.70710678]]\n"
     ]
    }
   ],
   "source": [
    "## Obtain the eigenvectors and eigenvalues\n",
    "eigen_vals, eigen_vecs = np.linalg.eig(cov_mat)\n",
    "print(\"Eigenvalues\")\n",
    "print(eigen_vals)\n",
    "print(\"\")\n",
    "print(\"Eigenvector\")\n",
    "print(eigen_vecs)"
   ]
  },
  {
   "cell_type": "code",
   "execution_count": 6,
   "id": "82e0203a",
   "metadata": {},
   "outputs": [
    {
     "name": "stdout",
     "output_type": "stream",
     "text": [
      "Feature Vector\n",
      "[[-2.29649685  0.16564047]\n",
      " [-1.48493521  0.05849416]\n",
      " [-0.58532165  0.03939976]\n",
      " [-1.56916825 -0.20948047]\n",
      " [ 0.31047304  0.20022808]\n",
      " [ 1.20244884  0.54097911]\n",
      " [ 1.39382819 -0.0026079 ]\n",
      " [-0.12596767 -0.41995421]\n",
      " [ 1.03780164 -0.17489286]\n",
      " [ 2.11733792 -0.19780613]]\n"
     ]
    }
   ],
   "source": [
    "# Obtain the feature vector using eigenvectors\n",
    "feature_vec = np.dot(std_data, eigen_vecs)\n",
    "print(\"Feature Vector\")\n",
    "print(feature_vec)"
   ]
  },
  {
   "cell_type": "code",
   "execution_count": 7,
   "id": "3061b126",
   "metadata": {},
   "outputs": [
    {
     "data": {
      "image/png": "[encoded data removed]",
      "text/plain": [
       "<Figure size 432x288 with 1 Axes>"
      ]
     },
     "metadata": {
      "needs_background": "light"
     },
     "output_type": "display_data"
    }
   ],
   "source": [
    "# Calculate cumulative sum of explained variances\n",
    "tot = sum(eigen_vals)\n",
    "var_exp = [(i / tot) for i in sorted(eigen_vals, reverse=True)]\n",
    "cum_var_exp = np.cumsum(var_exp)\n",
    "\n",
    "# Plot explained variances\n",
    "plt.bar(range(0,2), var_exp, alpha=0.5,\n",
    "        align='center', label='individual explained variance')\n",
    "plt.step(range(0,2), cum_var_exp, where='mid',\n",
    "         label='cumulative explained variance')\n",
    "plt.ylabel('Explained variance ratio')\n",
    "plt.xlabel('Principal component index')\n",
    "plt.legend(loc='best')\n",
    "plt.show()"
   ]
  },
  {
   "cell_type": "code",
   "execution_count": 8,
   "id": "847cb3c0",
   "metadata": {},
   "outputs": [
    {
     "name": "stdout",
     "output_type": "stream",
     "text": [
      "Ordered Eigen pair\n",
      "[(2.149430495007601, array([0.70710678, 0.70710678])), (0.07279172721462168, array([-0.70710678,  0.70710678]))]\n"
     ]
    }
   ],
   "source": [
    "# Make a list of (eigenvalue, eigenvector) tuples\n",
    "eigen_pairs = [(np.abs(eigen_vals[i]), eigen_vecs[:, i]) for i in range(len(eigen_vals))]\n",
    "\n",
    "# Sort the (eigenvalue, eigenvector) tuples from high to low\n",
    "eigen_pairs.sort(key=lambda k: k[0], reverse=True)\n",
    "\n",
    "# Show the ordered eigenpairs\n",
    "print(\"Ordered Eigen pair\")\n",
    "print(eigen_pairs)"
   ]
  },
  {
   "cell_type": "code",
   "execution_count": 9,
   "id": "085eacd5",
   "metadata": {},
   "outputs": [
    {
     "name": "stdout",
     "output_type": "stream",
     "text": [
      "Eigenvector with the highest value\n",
      "[0.70710678 0.70710678]\n"
     ]
    }
   ],
   "source": [
    "# Choose the eigenvector with the highest eigenvalues.\n",
    "highest_value = np.hstack((eigen_pairs[0][1][:, np.newaxis]))\n",
    "print('Eigenvector with the highest value')\n",
    "print(highest_value)"
   ]
  },
  {
   "cell_type": "code",
   "execution_count": 10,
   "id": "afe2d1c8",
   "metadata": {},
   "outputs": [
    {
     "name": "stdout",
     "output_type": "stream",
     "text": [
      "1D Dataset\n",
      "[[-2.29649685]\n",
      " [-1.48493521]\n",
      " [-0.58532165]\n",
      " [-1.56916825]\n",
      " [ 0.31047304]\n",
      " [ 1.20244884]\n",
      " [ 1.39382819]\n",
      " [-0.12596767]\n",
      " [ 1.03780164]\n",
      " [ 2.11733792]]\n"
     ]
    }
   ],
   "source": [
    "# Obtain the 1D dataset\n",
    "pca_data = std_data.dot(highest_value)\n",
    "pca_data = pca_data.reshape(10, 1)\n",
    "print(\"1D Dataset\")\n",
    "print(pca_data)"
   ]
  }
 ],
 "metadata": {
  "kernelspec": {
   "display_name": "Python 3 (ipykernel)",
   "language": "python",
   "name": "python3"
  },
  "language_info": {
   "codemirror_mode": {
    "name": "ipython",
    "version": 3
   },
   "file_extension": ".py",
   "mimetype": "text/x-python",
   "name": "python",
   "nbconvert_exporter": "python",
   "pygments_lexer": "ipython3",
   "version": "3.9.5"
  }
 },
 "nbformat": 4,
 "nbformat_minor": 5
}
